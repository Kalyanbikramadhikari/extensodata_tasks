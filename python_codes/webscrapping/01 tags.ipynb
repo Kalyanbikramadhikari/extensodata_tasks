{
 "cells": [
  {
   "cell_type": "code",
   "execution_count": 1,
   "metadata": {},
   "outputs": [],
   "source": [
    "import requests\n",
    "from bs4 import BeautifulSoup"
   ]
  },
  {
   "cell_type": "code",
   "execution_count": 6,
   "metadata": {},
   "outputs": [
    {
     "name": "stdout",
     "output_type": "stream",
     "text": [
      "<!DOCTYPE html>\n",
      "<html lang=\"en\">\n",
      " <head>\n",
      "  <meta charset=\"utf-8\"/>\n",
      "  <meta content=\"width=device-width, initial-scale=1.0\" name=\"viewport\"/>\n",
      "  <title>\n",
      "   Document\n",
      "  </title>\n",
      " </head>\n",
      " <body>\n",
      "  <div class=\"kalyan\">\n",
      "   Hey I am Kalyan\n",
      "  </div>\n",
      "  <div class=\"kalyan\">\n",
      "   Hey I am also Kalyan\n",
      "  </div>\n",
      "  <div class=\"kalyan\">\n",
      "   Hey I am also Bikram\n",
      "  </div>\n",
      "  <div class=\"kalyan\">\n",
      "   Hey I am also Adhikari\n",
      "  </div>\n",
      " </body>\n",
      "</html>\n",
      "\n",
      "<title>Document</title> <class 'bs4.element.Tag'>\n",
      "None\n"
     ]
    }
   ],
   "source": [
    "with open(\"sample.html\", \"r\")as f:\n",
    "    html_doc = f.read()\n",
    "\n",
    "soup = BeautifulSoup(html_doc, 'html.parser')\n",
    "print(soup.prettify())\n",
    "print(soup.title, type(soup.title))\n",
    "print(soup.title.soup)"
   ]
  },
  {
   "cell_type": "code",
   "execution_count": 20,
   "metadata": {},
   "outputs": [
    {
     "name": "stdout",
     "output_type": "stream",
     "text": [
      "<div class=\"kalyan\">Hey I am Kalyan</div>\n",
      "[<div class=\"kalyan\">Hey I am Kalyan</div>, <div class=\"kalyan\">Hey I am also Kalyan</div>, <div class=\"kalyan\">Hey I am also Bikram </div>, <div class=\"kalyan\">Hey I am also Adhikari</div>]\n",
      "<div class=\"kalyan\">Hey I am also Bikram </div>\n",
      "Hey I am Kalyan\n",
      "<class 'bs4.element.ResultSet'>\n",
      "[<div class=\"kalyan\">Hey I am Kalyan</div>, <div class=\"kalyan\">Hey I am also Kalyan</div>, <div class=\"kalyan\">Hey I am also Bikram </div>, <div class=\"kalyan\">Hey I am also Adhikari</div>]\n",
      "[<div class=\"kalyan\">Hey I am Kalyan</div>, <div class=\"kalyan\">Hey I am also Kalyan</div>, <div class=\"kalyan\">Hey I am also Bikram </div>, <div class=\"kalyan\">Hey I am also Adhikari</div>]\n",
      "<div class=\"kalyan\">Hey I am Kalyan</div>\n"
     ]
    }
   ],
   "source": [
    "print(soup.div)\n",
    "print(soup.find_all(\"div\"))\n",
    "print(soup.find_all(\"div\")[2])\n",
    "# print(soup.div(id=\"kba\"))\n",
    "\n",
    "print(soup.div.get_text())\n",
    "\n",
    "print(type(soup.find_all(\"div\")))\n",
    "\n",
    "print(soup.select(\"div\")) # selects all the divs\n",
    "print(soup.select(\"div.kalyan\"))\n",
    "\n",
    "print(soup.find(class_=\"kalyan\"))"
   ]
  },
  {
   "cell_type": "code",
   "execution_count": null,
   "metadata": {},
   "outputs": [],
   "source": [
    "#print the child of the parent with given class name of parent\n",
    "for child in soup.find(class_ = \"container\").children:\n",
    "    print(child)\n",
    "\n",
    "\n",
    "# print parent of teh child with given class name of children\n",
    "for parent in soup.find(class_=\"box\").parents:\n",
    "    print(parent)\n"
   ]
  },
  {
   "cell_type": "code",
   "execution_count": 10,
   "metadata": {},
   "outputs": [],
   "source": [
    "# to find all the anchoors \n",
    "for link in soup.find_all(\"a\"):\n",
    "    print(link) #gives the links with whole anchor tag\n",
    "    print(link.get(\"href\")) # gives only the href link"
   ]
  },
  {
   "cell_type": "code",
   "execution_count": 21,
   "metadata": {},
   "outputs": [],
   "source": [
    "ulTag = soup.new_tag(\"ul\")\n",
    "\n",
    "liTag = soup.new_tag(\"li\")\n",
    "liTag.string = \"Home\"\n",
    "ulTag.append(liTag)\n",
    "\n",
    "liTag = soup.new_tag(\"li\")\n",
    "liTag.string = \"About\"\n",
    "ulTag.append(liTag)\n",
    "\n",
    "\n",
    "soup.html.body.insert(0,ulTag)\n",
    "with open('modified.html',\"w\") as f:\n",
    "    f.write(str(soup))"
   ]
  },
  {
   "cell_type": "code",
   "execution_count": null,
   "metadata": {},
   "outputs": [],
   "source": [
    "cont = soup.find(class_=\"container\") #class is a keyword in python so we need to use _ as well\n",
    "print(cont.has_attr(\"id\")) # this will check whether or not the class with container has id attribute or not\n"
   ]
  }
 ],
 "metadata": {
  "kernelspec": {
   "display_name": "demo",
   "language": "python",
   "name": "python3"
  },
  "language_info": {
   "codemirror_mode": {
    "name": "ipython",
    "version": 3
   },
   "file_extension": ".py",
   "mimetype": "text/x-python",
   "name": "python",
   "nbconvert_exporter": "python",
   "pygments_lexer": "ipython3",
   "version": "3.10.8"
  }
 },
 "nbformat": 4,
 "nbformat_minor": 2
}
