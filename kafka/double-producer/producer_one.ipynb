{
 "cells": [
  {
   "cell_type": "code",
   "execution_count": 1,
   "metadata": {},
   "outputs": [
    {
     "name": "stdout",
     "output_type": "stream",
     "text": [
      "Requirement already satisfied: pyspark in c:\\programdata\\anaconda3\\envs\\demo\\lib\\site-packages (3.5.1)\n",
      "Requirement already satisfied: py4j==0.10.9.7 in c:\\programdata\\anaconda3\\envs\\demo\\lib\\site-packages (from pyspark) (0.10.9.7)\n",
      "Requirement already satisfied: kafka-python-ng in c:\\programdata\\anaconda3\\envs\\demo\\lib\\site-packages (2.2.2)\n"
     ]
    }
   ],
   "source": [
    "! pip install pyspark\n",
    "! pip install kafka-python-ng"
   ]
  },
  {
   "cell_type": "code",
   "execution_count": 2,
   "metadata": {},
   "outputs": [],
   "source": [
    "import pandas as pd\n",
    "from kafka import KafkaProducer\n",
    "from datetime import datetime\n",
    "import time\n",
    "import random\n",
    "import numpy as np\n"
   ]
  },
  {
   "cell_type": "code",
   "execution_count": 17,
   "metadata": {},
   "outputs": [],
   "source": [
    "\n",
    "KAFKA_TOPIC_NAME_CONS = \"Topic 1\"\n",
    "KAFKA_BOOTSTRAP_SERVERS_CONS = 'localhost:9092'"
   ]
  },
  {
   "cell_type": "code",
   "execution_count": 20,
   "metadata": {},
   "outputs": [
    {
     "name": "stdout",
     "output_type": "stream",
     "text": [
      "Kafka Producer One Application Started ... \n",
      "Message Type:  <class 'str'>\n",
      "Message:  409000611074',29-Jun-17,TRF FROM  Indiaforensic SERVICES,nan,29-Jun-17,nan, 1,000,000.00 , 1,000,000.00 \n",
      "Message Type:  <class 'str'>\n",
      "Message:  409000611074',5-Jul-17,TRF FROM  Indiaforensic SERVICES,nan,5-Jul-17,nan, 1,000,000.00 , 2,000,000.00 \n",
      "Message Type:  <class 'str'>\n",
      "Message:  409000611074',18-Jul-17,FDRL/INTERNAL FUND TRANSFE,nan,18-Jul-17,nan, 500,000.00 , 2,500,000.00 \n",
      "Message Type:  <class 'str'>\n",
      "Message:  409000611074',1-Aug-17,TRF FRM  Indiaforensic SERVICES,nan,1-Aug-17,nan, 3,000,000.00 , 5,500,000.00 \n",
      "Message Type:  <class 'str'>\n",
      "Message:  409000611074',16-Aug-17,FDRL/INTERNAL FUND TRANSFE,nan,16-Aug-17,nan, 500,000.00 , 6,000,000.00 \n",
      "Message Type:  <class 'str'>\n",
      "Message:  409000611074',16-Aug-17,FDRL/INTERNAL FUND TRANSFE,nan,16-Aug-17,nan, 500,000.00 , 6,500,000.00 \n"
     ]
    },
    {
     "ename": "KeyboardInterrupt",
     "evalue": "",
     "output_type": "error",
     "traceback": [
      "\u001b[1;31m---------------------------------------------------------------------------\u001b[0m",
      "\u001b[1;31mKeyboardInterrupt\u001b[0m                         Traceback (most recent call last)",
      "Cell \u001b[1;32mIn[20], line 42\u001b[0m\n\u001b[0;32m     39\u001b[0m     kafka_producer_obj\u001b[38;5;241m.\u001b[39msend(KAFKA_TOPIC_NAME_CONS, message)\n\u001b[0;32m     41\u001b[0m     \u001b[38;5;66;03m# Adding delay for better visualization (you might adjust this based on your requirement)\u001b[39;00m\n\u001b[1;32m---> 42\u001b[0m     \u001b[43mtime\u001b[49m\u001b[38;5;241;43m.\u001b[39;49m\u001b[43msleep\u001b[49m\u001b[43m(\u001b[49m\u001b[38;5;241;43m1\u001b[39;49m\u001b[43m)\u001b[49m\n\u001b[0;32m     44\u001b[0m \u001b[38;5;28mprint\u001b[39m(\u001b[38;5;124m\"\u001b[39m\u001b[38;5;124mKafka Producer Application Completed. \u001b[39m\u001b[38;5;124m\"\u001b[39m)\n",
      "\u001b[1;31mKeyboardInterrupt\u001b[0m: "
     ]
    }
   ],
   "source": [
    "\n",
    "\n",
    "if __name__ == \"__main__\":\n",
    "    print(\"Kafka Producer One Application Started ... \")\n",
    "\n",
    "    # Creating KafkaProducer object\n",
    "    kafka_producer_obj = KafkaProducer(bootstrap_servers=KAFKA_BOOTSTRAP_SERVERS_CONS,\n",
    "                                       value_serializer=lambda x: x.encode('utf-8'))\n",
    "    \n",
    "    # Path to the CSV file\n",
    "    filepath = \"D:/internship-f1soft/day-3 assignment/assignment_2/transaction_summary.csv\"\n",
    "    \n",
    "    # Reading the CSV file into a DataFrame\n",
    "    transaction_df = pd.read_csv(filepath)\n",
    "    transaction_df_head = transaction_df.head(10)\n",
    "\n",
    "    # Convert DataFrame to a list of dictionaries\n",
    "    transaction_list = transaction_df_head.to_dict(orient=\"records\")\n",
    "    \n",
    "    # Iterating through each dictionary in the list\n",
    "    for message in transaction_list:\n",
    "        message_fields_value_list = [\n",
    "            str(message[\"Account No\"]),\n",
    "            str(message[\"DATE\"]),\n",
    "            str(message[\"TRANSACTION DETAILS\"]),\n",
    "            str(message[\"CHQ.NO.\"]),\n",
    "            str(message[\"VALUE DATE\"]),\n",
    "            str(message[\" WITHDRAWAL AMT \"]),\n",
    "            str(message[\" DEPOSIT AMT \"]),\n",
    "            str(message[\"BALANCE AMT\"])\n",
    "        ]\n",
    "        \n",
    "        # Joining the elements into a single string\n",
    "        message = ','.join(message_fields_value_list)\n",
    "        \n",
    "        # Printing message details\n",
    "        print(\"Message Type: \", type(message))\n",
    "        print(\"Message: \", message)\n",
    "        \n",
    "        # Sending message to Kafka topic\n",
    "        kafka_producer_obj.send(KAFKA_TOPIC_NAME_CONS, message)\n",
    "        \n",
    "        # Adding delay for better visualization (you might adjust this based on your requirement)\n",
    "        time.sleep(1)\n",
    "\n",
    "    print(\"Kafka Producer Application Completed. \")"
   ]
  },
  {
   "cell_type": "code",
   "execution_count": null,
   "metadata": {},
   "outputs": [],
   "source": []
  },
  {
   "cell_type": "code",
   "execution_count": null,
   "metadata": {},
   "outputs": [],
   "source": []
  },
  {
   "cell_type": "code",
   "execution_count": null,
   "metadata": {},
   "outputs": [],
   "source": []
  },
  {
   "cell_type": "code",
   "execution_count": null,
   "metadata": {},
   "outputs": [],
   "source": []
  },
  {
   "cell_type": "code",
   "execution_count": null,
   "metadata": {},
   "outputs": [],
   "source": []
  }
 ],
 "metadata": {
  "kernelspec": {
   "display_name": "demo",
   "language": "python",
   "name": "python3"
  },
  "language_info": {
   "codemirror_mode": {
    "name": "ipython",
    "version": 3
   },
   "file_extension": ".py",
   "mimetype": "text/x-python",
   "name": "python",
   "nbconvert_exporter": "python",
   "pygments_lexer": "ipython3",
   "version": "3.10.8"
  }
 },
 "nbformat": 4,
 "nbformat_minor": 2
}
