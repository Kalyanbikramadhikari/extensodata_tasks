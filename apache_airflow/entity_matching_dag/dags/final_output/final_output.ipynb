{
 "cells": [
  {
   "cell_type": "code",
   "id": "initial_id",
   "metadata": {
    "collapsed": true,
    "ExecuteTime": {
     "end_time": "2024-05-26T03:33:07.877231Z",
     "start_time": "2024-05-26T03:33:07.812881Z"
    }
   },
   "source": [
    "import pandas as pd\n",
    "\n",
    "dataframe = pd.read_csv('C:/Users/acer/PycharmProjects/EntityMatching/Project/dags/final_output/final_result.csv')\n",
    "dataframe"
   ],
   "execution_count": 2,
   "outputs": []
  },
  {
   "metadata": {},
   "cell_type": "code",
   "execution_count": null,
   "source": "",
   "id": "2703a78f3532b3dd",
   "outputs": []
  }
 ],
 "metadata": {
  "kernelspec": {
   "display_name": "Python 3",
   "language": "python",
   "name": "python3"
  },
  "language_info": {
   "codemirror_mode": {
    "name": "ipython",
    "version": 2
   },
   "file_extension": ".py",
   "mimetype": "text/x-python",
   "name": "python",
   "nbconvert_exporter": "python",
   "pygments_lexer": "ipython2",
   "version": "2.7.6"
  }
 },
 "nbformat": 4,
 "nbformat_minor": 5
}
