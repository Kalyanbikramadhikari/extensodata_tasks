{
 "cells": [
  {
   "cell_type": "code",
   "execution_count": 12,
   "metadata": {},
   "outputs": [
    {
     "data": {
      "text/plain": [
       "CompletedProcess(args='hdfs dfs -put D:\\\\internship-f1soft\\\\day-3\\\\assignment_2\\\\fc_transaction_base.csv /kalyan', returncode=0)"
      ]
     },
     "execution_count": 12,
     "metadata": {},
     "output_type": "execute_result"
    }
   ],
   "source": [
    "import subprocess\n",
    "\n",
    "# start_dfs_command = \"start-dfs.cmd\"\n",
    "#\n",
    "# subprocess.run(start_dfs_command,shell=True)\n",
    "\n",
    "hdfs_put_command = \"hdfs dfs -put D:\\\\internship-f1soft\\\\day-3\\\\assignment_2\\\\fc_transaction_base.csv /kalyan\"\n",
    "\n",
    "subprocess.run(hdfs_put_command, shell=True)"
   ]
  },
  {
   "cell_type": "code",
   "execution_count": 1,
   "metadata": {},
   "outputs": [],
   "source": [
    "# import requests\n",
    "\n",
    "# HDFS_PATH = '/kalyan/fc_account_master.csv'\n",
    "# HDFS_URL = 'http://localhost:9000/webhdfs/v1/{HDFS_PATH}'\n"
   ]
  },
  {
   "cell_type": "code",
   "execution_count": 2,
   "metadata": {},
   "outputs": [
    {
     "name": "stdout",
     "output_type": "stream",
     "text": [
      "Collecting hdfs\n",
      "  Downloading hdfs-2.7.3.tar.gz (43 kB)\n",
      "     -------------------------------------- 43.5/43.5 kB 426.9 kB/s eta 0:00:00\n",
      "  Preparing metadata (setup.py): started\n",
      "  Preparing metadata (setup.py): finished with status 'done'\n",
      "Collecting docopt\n",
      "  Downloading docopt-0.6.2.tar.gz (25 kB)\n",
      "  Preparing metadata (setup.py): started\n",
      "  Preparing metadata (setup.py): finished with status 'done'\n",
      "Requirement already satisfied: requests>=2.7.0 in c:\\programdata\\anaconda3\\envs\\demo\\lib\\site-packages (from hdfs) (2.31.0)\n",
      "Requirement already satisfied: six>=1.9.0 in c:\\programdata\\anaconda3\\envs\\demo\\lib\\site-packages (from hdfs) (1.16.0)\n",
      "Requirement already satisfied: charset-normalizer<4,>=2 in c:\\programdata\\anaconda3\\envs\\demo\\lib\\site-packages (from requests>=2.7.0->hdfs) (3.3.2)\n",
      "Requirement already satisfied: idna<4,>=2.5 in c:\\programdata\\anaconda3\\envs\\demo\\lib\\site-packages (from requests>=2.7.0->hdfs) (3.7)\n",
      "Requirement already satisfied: urllib3<3,>=1.21.1 in c:\\programdata\\anaconda3\\envs\\demo\\lib\\site-packages (from requests>=2.7.0->hdfs) (2.2.1)\n",
      "Requirement already satisfied: certifi>=2017.4.17 in c:\\programdata\\anaconda3\\envs\\demo\\lib\\site-packages (from requests>=2.7.0->hdfs) (2024.2.2)\n",
      "Building wheels for collected packages: hdfs, docopt\n",
      "  Building wheel for hdfs (setup.py): started\n",
      "  Building wheel for hdfs (setup.py): finished with status 'done'\n",
      "  Created wheel for hdfs: filename=hdfs-2.7.3-py3-none-any.whl size=34328 sha256=87b6a6106ed12c12d5b25c383a121e6289962f28b79b8e3a220b7f1de51a0378\n",
      "  Stored in directory: c:\\users\\dell\\appdata\\local\\pip\\cache\\wheels\\e5\\8d\\b6\\99c1c0a3ac5788c866b0ecd3f48b0134a5910e6ed26011800b\n",
      "  Building wheel for docopt (setup.py): started\n",
      "  Building wheel for docopt (setup.py): finished with status 'done'\n",
      "  Created wheel for docopt: filename=docopt-0.6.2-py2.py3-none-any.whl size=13706 sha256=4e4160197a5d2efcbd80c4b3d5c18006972400f853f79bf96c69d69bcc209249\n",
      "  Stored in directory: c:\\users\\dell\\appdata\\local\\pip\\cache\\wheels\\fc\\ab\\d4\\5da2067ac95b36618c629a5f93f809425700506f72c9732fac\n",
      "Successfully built hdfs docopt\n",
      "Installing collected packages: docopt, hdfs\n",
      "Successfully installed docopt-0.6.2 hdfs-2.7.3\n"
     ]
    }
   ],
   "source": [
    "! pip install hdfs"
   ]
  },
  {
   "cell_type": "code",
   "execution_count": 40,
   "metadata": {},
   "outputs": [],
   "source": [
    "from hdfs import InsecureClient\n",
    "# Connect to HDFS\n",
    "# client = InsecureClient('hdfs://localhost:9000', user='Dell')\n",
    "client = InsecureClient('http://localhost:9870')\n"
   ]
  },
  {
   "cell_type": "code",
   "execution_count": 41,
   "metadata": {},
   "outputs": [],
   "source": [
    "# path to the local CSV file\n",
    "local_csv_file_path = 'D:\\internship-f1soft\\day-3\\assignment_2\\fc_transaction_base1.csv'\n"
   ]
  },
  {
   "cell_type": "code",
   "execution_count": 42,
   "metadata": {},
   "outputs": [],
   "source": [
    "# path in HDFS wehere you want to upload the file\n",
    "hdfs_upload_path = '/kalyan'"
   ]
  },
  {
   "cell_type": "code",
   "execution_count": 43,
   "metadata": {},
   "outputs": [
    {
     "ename": "TypeError",
     "evalue": "a bytes-like object is required, not 'str'",
     "output_type": "error",
     "traceback": [
      "\u001b[1;31m---------------------------------------------------------------------------\u001b[0m",
      "\u001b[1;31mHdfsError\u001b[0m                                 Traceback (most recent call last)",
      "File \u001b[1;32mc:\\ProgramData\\Anaconda3\\envs\\demo\\lib\\site-packages\\hdfs\\client.py:580\u001b[0m, in \u001b[0;36mClient.upload\u001b[1;34m(self, hdfs_path, local_path, n_threads, temp_dir, chunk_size, progress, cleanup, **kwargs)\u001b[0m\n\u001b[0;32m    579\u001b[0m \u001b[38;5;28;01mtry\u001b[39;00m:\n\u001b[1;32m--> 580\u001b[0m   statuses \u001b[38;5;241m=\u001b[39m [status \u001b[38;5;28;01mfor\u001b[39;00m _, status \u001b[38;5;129;01min\u001b[39;00m \u001b[38;5;28;43mself\u001b[39;49m\u001b[38;5;241;43m.\u001b[39;49m\u001b[43mlist\u001b[49m\u001b[43m(\u001b[49m\u001b[43mhdfs_path\u001b[49m\u001b[43m,\u001b[49m\u001b[43m \u001b[49m\u001b[43mstatus\u001b[49m\u001b[38;5;241;43m=\u001b[39;49m\u001b[38;5;28;43;01mTrue\u001b[39;49;00m\u001b[43m)\u001b[49m]\n\u001b[0;32m    581\u001b[0m \u001b[38;5;28;01mexcept\u001b[39;00m HdfsError \u001b[38;5;28;01mas\u001b[39;00m err:\n",
      "File \u001b[1;32mc:\\ProgramData\\Anaconda3\\envs\\demo\\lib\\site-packages\\hdfs\\client.py:1118\u001b[0m, in \u001b[0;36mClient.list\u001b[1;34m(self, hdfs_path, status)\u001b[0m\n\u001b[0;32m   1117\u001b[0m hdfs_path \u001b[38;5;241m=\u001b[39m \u001b[38;5;28mself\u001b[39m\u001b[38;5;241m.\u001b[39mresolve(hdfs_path)\n\u001b[1;32m-> 1118\u001b[0m statuses \u001b[38;5;241m=\u001b[39m \u001b[38;5;28;43mself\u001b[39;49m\u001b[38;5;241;43m.\u001b[39;49m\u001b[43m_list_status\u001b[49m\u001b[43m(\u001b[49m\u001b[43mhdfs_path\u001b[49m\u001b[43m)\u001b[49m\u001b[38;5;241m.\u001b[39mjson()[\u001b[38;5;124m'\u001b[39m\u001b[38;5;124mFileStatuses\u001b[39m\u001b[38;5;124m'\u001b[39m][\u001b[38;5;124m'\u001b[39m\u001b[38;5;124mFileStatus\u001b[39m\u001b[38;5;124m'\u001b[39m]\n\u001b[0;32m   1119\u001b[0m \u001b[38;5;28;01mif\u001b[39;00m \u001b[38;5;28mlen\u001b[39m(statuses) \u001b[38;5;241m==\u001b[39m \u001b[38;5;241m1\u001b[39m \u001b[38;5;129;01mand\u001b[39;00m (\n\u001b[0;32m   1120\u001b[0m   \u001b[38;5;129;01mnot\u001b[39;00m statuses[\u001b[38;5;241m0\u001b[39m][\u001b[38;5;124m'\u001b[39m\u001b[38;5;124mpathSuffix\u001b[39m\u001b[38;5;124m'\u001b[39m] \u001b[38;5;129;01mor\u001b[39;00m \u001b[38;5;28mself\u001b[39m\u001b[38;5;241m.\u001b[39mstatus(hdfs_path)[\u001b[38;5;124m'\u001b[39m\u001b[38;5;124mtype\u001b[39m\u001b[38;5;124m'\u001b[39m] \u001b[38;5;241m==\u001b[39m \u001b[38;5;124m'\u001b[39m\u001b[38;5;124mFILE\u001b[39m\u001b[38;5;124m'\u001b[39m\n\u001b[0;32m   1121\u001b[0m   \u001b[38;5;66;03m# HttpFS behaves incorrectly here, we sometimes need an extra call to\u001b[39;00m\n\u001b[0;32m   1122\u001b[0m   \u001b[38;5;66;03m# make sure we always identify if we are dealing with a file.\u001b[39;00m\n\u001b[0;32m   1123\u001b[0m ):\n",
      "File \u001b[1;32mc:\\ProgramData\\Anaconda3\\envs\\demo\\lib\\site-packages\\hdfs\\client.py:118\u001b[0m, in \u001b[0;36m_Request.to_method.<locals>.api_handler\u001b[1;34m(client, hdfs_path, data, strict, **params)\u001b[0m\n\u001b[0;32m    117\u001b[0m \u001b[38;5;28;01mif\u001b[39;00m strict:\n\u001b[1;32m--> 118\u001b[0m   \u001b[38;5;28;01mraise\u001b[39;00m err\n\u001b[0;32m    119\u001b[0m \u001b[38;5;28;01mreturn\u001b[39;00m res\n",
      "\u001b[1;31mHdfsError\u001b[0m: b'<html>\\n<head>\\n<meta http-equiv=\"Content-Type\" content=\"text/html;charset=ISO-8859-1\"/>\\n<title>Error 500 java.lang.NoClassDefFoundError: Could not initialize class com.sun.xml.bind.v2.runtime.reflect.opt.Injector</title>\\n</head>\\n<body><h2>HTTP ERROR 500 java.lang.NoClassDefFoundError: Could not initialize class com.sun.xml.bind.v2.runtime.reflect.opt.Injector</h2>\\n<table>\\n<tr><th>URI:</th><td>/webhdfs/v1/kalyan</td></tr>\\n<tr><th>STATUS:</th><td>500</td></tr>\\n<tr><th>MESSAGE:</th><td>java.lang.NoClassDefFoundError: Could not initialize class com.sun.xml.bind.v2.runtime.reflect.opt.Injector</td></tr>\\n<tr><th>SERVLET:</th><td>com.sun.jersey.spi.container.servlet.ServletContainer-7fc44dec</td></tr>\\n<tr><th>CAUSED BY:</th><td>java.lang.NoClassDefFoundError: Could not initialize class com.sun.xml.bind.v2.runtime.reflect.opt.Injector</td></tr>\\n<tr><th>CAUSED BY:</th><td>java.lang.ExceptionInInitializerError: Exception java.lang.reflect.InaccessibleObjectException: Unable to make protected final java.lang.Class java.lang.ClassLoader.defineClass(java.lang.String,byte[],int,int) throws java.lang.ClassFormatError accessible: module java.base does not &quot;opens java.lang&quot; to unnamed module @2ed2d9cb [in thread &quot;qtp323823279-39&quot;]</td></tr>\\n</table>\\n<h3>Caused by:</h3><pre>java.lang.NoClassDefFoundError: Could not initialize class com.sun.xml.bind.v2.runtime.reflect.opt.Injector\\r\\n\\tat com.sun.xml.bind.v2.runtime.reflect.opt.AccessorInjector.prepare(AccessorInjector.java:83)\\r\\n\\tat com.sun.xml.bind.v2.runtime.reflect.opt.OptimizedAccessorFactory.get(OptimizedAccessorFactory.java:176)\\r\\n\\tat com.sun.xml.bind.v2.runtime.reflect.Accessor$FieldReflection.optimize(Accessor.java:282)\\r\\n\\tat com.sun.xml.bind.v2.runtime.property.ArrayProperty.&lt;init&gt;(ArrayProperty.java:69)\\r\\n\\tat com.sun.xml.bind.v2.runtime.property.ArrayERProperty.&lt;init&gt;(ArrayERProperty.java:88)\\r\\n\\tat com.sun.xml.bind.v2.runtime.property.ArrayElementProperty.&lt;init&gt;(ArrayElementProperty.java:100)\\r\\n\\tat com.sun.xml.bind.v2.runtime.property.ArrayElementNodeProperty.&lt;init&gt;(ArrayElementNodeProperty.java:62)\\r\\n\\tat java.base/jdk.internal.reflect.DirectConstructorHandleAccessor.newInstance(DirectConstructorHandleAccessor.java:62)\\r\\n\\tat java.base/java.lang.reflect.Constructor.newInstanceWithCaller(Constructor.java:502)\\r\\n\\tat java.base/java.lang.reflect.Constructor.newInstance(Constructor.java:486)\\r\\n\\tat com.sun.xml.bind.v2.runtime.property.PropertyFactory.create(PropertyFactory.java:128)\\r\\n\\tat com.sun.xml.bind.v2.runtime.ClassBeanInfoImpl.&lt;init&gt;(ClassBeanInfoImpl.java:183)\\r\\n\\tat com.sun.xml.bind.v2.runtime.JAXBContextImpl.getOrCreate(JAXBContextImpl.java:532)\\r\\n\\tat com.sun.xml.bind.v2.runtime.JAXBContextImpl.&lt;init&gt;(JAXBContextImpl.java:347)\\r\\n\\tat com.sun.xml.bind.v2.runtime.JAXBContextImpl$JAXBContextBuilder.build(JAXBContextImpl.java:1170)\\r\\n\\tat com.sun.xml.bind.v2.ContextFactory.createContext(ContextFactory.java:145)\\r\\n\\tat com.sun.xml.bind.v2.ContextFactory.createContext(ContextFactory.java:236)\\r\\n\\tat java.base/jdk.internal.reflect.DirectMethodHandleAccessor.invoke(DirectMethodHandleAccessor.java:103)\\r\\n\\tat java.base/java.lang.reflect.Method.invoke(Method.java:580)\\r\\n\\tat javax.xml.bind.ContextFinder.newInstance(ContextFinder.java:186)\\r\\n\\tat javax.xml.bind.ContextFinder.newInstance(ContextFinder.java:146)\\r\\n\\tat javax.xml.bind.ContextFinder.find(ContextFinder.java:350)\\r\\n\\tat javax.xml.bind.JAXBContext.newInstance(JAXBContext.java:446)\\r\\n\\tat javax.xml.bind.JAXBContext.newInstance(JAXBContext.java:409)\\r\\n\\tat com.sun.jersey.server.impl.wadl.WadlApplicationContextImpl.&lt;init&gt;(WadlApplicationContextImpl.java:103)\\r\\n\\tat com.sun.jersey.server.impl.wadl.WadlFactory.init(WadlFactory.java:100)\\r\\n\\tat com.sun.jersey.server.impl.application.RootResourceUriRules.initWadl(RootResourceUriRules.java:169)\\r\\n\\tat com.sun.jersey.server.impl.application.RootResourceUriRules.&lt;init&gt;(RootResourceUriRules.java:106)\\r\\n\\tat com.sun.jersey.server.impl.application.WebApplicationImpl._initiate(WebApplicationImpl.java:1359)\\r\\n\\tat com.sun.jersey.server.impl.application.WebApplicationImpl.access$700(WebApplicationImpl.java:180)\\r\\n\\tat com.sun.jersey.server.impl.application.WebApplicationImpl$13.f(WebApplicationImpl.java:799)\\r\\n\\tat com.sun.jersey.server.impl.application.WebApplicationImpl$13.f(WebApplicationImpl.java:795)\\r\\n\\tat com.sun.jersey.spi.inject.Errors.processWithErrors(Errors.java:193)\\r\\n\\tat com.sun.jersey.server.impl.application.WebApplicationImpl.initiate(WebApplicationImpl.java:795)\\r\\n\\tat com.sun.jersey.server.impl.application.WebApplicationImpl.initiate(WebApplicationImpl.java:790)\\r\\n\\tat com.sun.jersey.spi.container.servlet.ServletContainer.initiate(ServletContainer.java:509)\\r\\n\\tat com.sun.jersey.spi.container.servlet.ServletContainer$InternalWebComponent.initiate(ServletContainer.java:339)\\r\\n\\tat com.sun.jersey.spi.container.servlet.WebComponent.load(WebComponent.java:605)\\r\\n\\tat com.sun.jersey.spi.container.servlet.WebComponent.init(WebComponent.java:207)\\r\\n\\tat com.sun.jersey.spi.container.servlet.ServletContainer.init(ServletContainer.java:394)\\r\\n\\tat com.sun.jersey.spi.container.servlet.ServletContainer.init(ServletContainer.java:577)\\r\\n\\tat javax.servlet.GenericServlet.init(GenericServlet.java:244)\\r\\n\\tat org.eclipse.jetty.servlet.ServletHolder.initServlet(ServletHolder.java:632)\\r\\n\\tat org.eclipse.jetty.servlet.ServletHolder.getServlet(ServletHolder.java:486)\\r\\n\\tat org.eclipse.jetty.servlet.ServletHolder.prepare(ServletHolder.java:759)\\r\\n\\tat org.eclipse.jetty.servlet.ServletHandler.doHandle(ServletHandler.java:549)\\r\\n\\tat org.eclipse.jetty.server.handler.ScopedHandler.handle(ScopedHandler.java:143)\\r\\n\\tat org.eclipse.jetty.security.SecurityHandler.handle(SecurityHandler.java:600)\\r\\n\\tat org.eclipse.jetty.server.handler.HandlerWrapper.handle(HandlerWrapper.java:127)\\r\\n\\tat org.eclipse.jetty.server.handler.ScopedHandler.nextHandle(ScopedHandler.java:235)\\r\\n\\tat org.eclipse.jetty.server.session.SessionHandler.doHandle(SessionHandler.java:1624)\\r\\n\\tat org.eclipse.jetty.server.handler.ScopedHandler.nextHandle(ScopedHandler.java:233)\\r\\n\\tat org.eclipse.jetty.server.handler.ContextHandler.doHandle(ContextHandler.java:1440)\\r\\n\\tat org.eclipse.jetty.server.handler.ScopedHandler.nextScope(ScopedHandler.java:188)\\r\\n\\tat org.eclipse.jetty.servlet.ServletHandler.doScope(ServletHandler.java:505)\\r\\n\\tat org.eclipse.jetty.server.session.SessionHandler.doScope(SessionHandler.java:1594)\\r\\n\\tat org.eclipse.jetty.server.handler.ScopedHandler.nextScope(ScopedHandler.java:186)\\r\\n\\tat org.eclipse.jetty.server.handler.ContextHandler.doScope(ContextHandler.java:1355)\\r\\n\\tat org.eclipse.jetty.server.handler.ScopedHandler.handle(ScopedHandler.java:141)\\r\\n\\tat org.eclipse.jetty.server.handler.HandlerCollection.handle(HandlerCollection.java:146)\\r\\n\\tat org.eclipse.jetty.server.handler.StatisticsHandler.handle(StatisticsHandler.java:181)\\r\\n\\tat org.eclipse.jetty.server.handler.HandlerWrapper.handle(HandlerWrapper.java:127)\\r\\n\\tat org.eclipse.jetty.server.Server.handle(Server.java:516)\\r\\n\\tat org.eclipse.jetty.server.HttpChannel.lambda$handle$1(HttpChannel.java:487)\\r\\n\\tat org.eclipse.jetty.server.HttpChannel.dispatch(HttpChannel.java:732)\\r\\n\\tat org.eclipse.jetty.server.HttpChannel.handle(HttpChannel.java:479)\\r\\n\\tat org.eclipse.jetty.server.HttpConnection.onFillable(HttpConnection.java:277)\\r\\n\\tat org.eclipse.jetty.io.AbstractConnection$ReadCallback.succeeded(AbstractConnection.java:311)\\r\\n\\tat org.eclipse.jetty.io.FillInterest.fillable(FillInterest.java:105)\\r\\n\\tat org.eclipse.jetty.io.ChannelEndPoint$1.run(ChannelEndPoint.java:104)\\r\\n\\tat org.eclipse.jetty.util.thread.strategy.EatWhatYouKill.runTask(EatWhatYouKill.java:338)\\r\\n\\tat org.eclipse.jetty.util.thread.strategy.EatWhatYouKill.doProduce(EatWhatYouKill.java:315)\\r\\n\\tat org.eclipse.jetty.util.thread.strategy.EatWhatYouKill.tryProduce(EatWhatYouKill.java:173)\\r\\n\\tat org.eclipse.jetty.util.thread.strategy.EatWhatYouKill.run(EatWhatYouKill.java:131)\\r\\n\\tat org.eclipse.jetty.util.thread.ReservedThreadExecutor$ReservedThread.run(ReservedThreadExecutor.java:409)\\r\\n\\tat org.eclipse.jetty.util.thread.QueuedThreadPool.runJob(QueuedThreadPool.java:883)\\r\\n\\tat org.eclipse.jetty.util.thread.QueuedThreadPool$Runner.run(QueuedThreadPool.java:1034)\\r\\n\\tat java.base/java.lang.Thread.run(Thread.java:1570)\\r\\nCaused by: java.lang.ExceptionInInitializerError: Exception java.lang.reflect.InaccessibleObjectException: Unable to make protected final java.lang.Class java.lang.ClassLoader.defineClass(java.lang.String,byte[],int,int) throws java.lang.ClassFormatError accessible: module java.base does not &quot;opens java.lang&quot; to unnamed module @2ed2d9cb [in thread &quot;qtp323823279-39&quot;]\\r\\n\\tat java.base/java.lang.reflect.AccessibleObject.throwInaccessibleObjectException(AccessibleObject.java:388)\\r\\n\\tat java.base/java.lang.reflect.AccessibleObject.checkCanSetAccessible(AccessibleObject.java:364)\\r\\n\\tat java.base/java.lang.reflect.AccessibleObject.checkCanSetAccessible(AccessibleObject.java:312)\\r\\n\\tat java.base/java.lang.reflect.Method.checkCanSetAccessible(Method.java:203)\\r\\n\\tat java.base/java.lang.reflect.Method.setAccessible(Method.java:197)\\r\\n\\tat com.sun.xml.bind.v2.runtime.reflect.opt.Injector$1.run(Injector.java:177)\\r\\n\\tat com.sun.xml.bind.v2.runtime.reflect.opt.Injector$1.run(Injector.java:174)\\r\\n\\tat java.base/java.security.AccessController.doPrivileged(AccessController.java:319)\\r\\n\\tat com.sun.xml.bind.v2.runtime.reflect.opt.Injector.&lt;clinit&gt;(Injector.java:172)\\r\\n\\t... 78 more\\r\\n</pre>\\n\\n</body>\\n</html>\\n'",
      "\nDuring handling of the above exception, another exception occurred:\n",
      "\u001b[1;31mTypeError\u001b[0m                                 Traceback (most recent call last)",
      "Cell \u001b[1;32mIn[43], line 2\u001b[0m\n\u001b[0;32m      1\u001b[0m \u001b[38;5;66;03m#upload the file\u001b[39;00m\n\u001b[1;32m----> 2\u001b[0m \u001b[43mclient\u001b[49m\u001b[38;5;241;43m.\u001b[39;49m\u001b[43mupload\u001b[49m\u001b[43m(\u001b[49m\u001b[43mhdfs_upload_path\u001b[49m\u001b[43m,\u001b[49m\u001b[43m \u001b[49m\u001b[43mlocal_csv_file_path\u001b[49m\u001b[43m)\u001b[49m\n\u001b[0;32m      3\u001b[0m \u001b[38;5;28mprint\u001b[39m(\u001b[38;5;124m\"\u001b[39m\u001b[38;5;124mfile uploaded sucessfully to hdfs\u001b[39m\u001b[38;5;124m\"\u001b[39m)\n",
      "File \u001b[1;32mc:\\ProgramData\\Anaconda3\\envs\\demo\\lib\\site-packages\\hdfs\\client.py:582\u001b[0m, in \u001b[0;36mClient.upload\u001b[1;34m(self, hdfs_path, local_path, n_threads, temp_dir, chunk_size, progress, cleanup, **kwargs)\u001b[0m\n\u001b[0;32m    580\u001b[0m   statuses \u001b[38;5;241m=\u001b[39m [status \u001b[38;5;28;01mfor\u001b[39;00m _, status \u001b[38;5;129;01min\u001b[39;00m \u001b[38;5;28mself\u001b[39m\u001b[38;5;241m.\u001b[39mlist(hdfs_path, status\u001b[38;5;241m=\u001b[39m\u001b[38;5;28;01mTrue\u001b[39;00m)]\n\u001b[0;32m    581\u001b[0m \u001b[38;5;28;01mexcept\u001b[39;00m HdfsError \u001b[38;5;28;01mas\u001b[39;00m err:\n\u001b[1;32m--> 582\u001b[0m   \u001b[38;5;28;01mif\u001b[39;00m \u001b[38;5;124;43m'\u001b[39;49m\u001b[38;5;124;43mnot a directory\u001b[39;49m\u001b[38;5;124;43m'\u001b[39;49m\u001b[43m \u001b[49m\u001b[38;5;129;43;01min\u001b[39;49;00m\u001b[43m \u001b[49m\u001b[43merr\u001b[49m\u001b[38;5;241;43m.\u001b[39;49m\u001b[43mmessage\u001b[49m:\n\u001b[0;32m    583\u001b[0m     \u001b[38;5;66;03m# Remote path is a normal file.\u001b[39;00m\n\u001b[0;32m    584\u001b[0m     \u001b[38;5;28;01mif\u001b[39;00m \u001b[38;5;129;01mnot\u001b[39;00m kwargs\u001b[38;5;241m.\u001b[39mget(\u001b[38;5;124m'\u001b[39m\u001b[38;5;124moverwrite\u001b[39m\u001b[38;5;124m'\u001b[39m):\n\u001b[0;32m    585\u001b[0m       \u001b[38;5;28;01mraise\u001b[39;00m HdfsError(\u001b[38;5;124m'\u001b[39m\u001b[38;5;124mRemote path \u001b[39m\u001b[38;5;132;01m%r\u001b[39;00m\u001b[38;5;124m already exists.\u001b[39m\u001b[38;5;124m'\u001b[39m, hdfs_path)\n",
      "\u001b[1;31mTypeError\u001b[0m: a bytes-like object is required, not 'str'"
     ]
    }
   ],
   "source": [
    "#upload the file\n",
    "client.upload(hdfs_upload_path, local_csv_file_path)\n",
    "print(\"file uploaded sucessfully to hdfs\")"
   ]
  },
  {
   "cell_type": "code",
   "execution_count": null,
   "metadata": {},
   "outputs": [],
   "source": []
  },
  {
   "cell_type": "code",
   "execution_count": null,
   "metadata": {},
   "outputs": [],
   "source": []
  },
  {
   "cell_type": "code",
   "execution_count": null,
   "metadata": {},
   "outputs": [],
   "source": []
  }
 ],
 "metadata": {
  "kernelspec": {
   "display_name": "demo",
   "language": "python",
   "name": "python3"
  },
  "language_info": {
   "codemirror_mode": {
    "name": "ipython",
    "version": 3
   },
   "file_extension": ".py",
   "mimetype": "text/x-python",
   "name": "python",
   "nbconvert_exporter": "python",
   "pygments_lexer": "ipython3",
   "version": "3.10.8"
  }
 },
 "nbformat": 4,
 "nbformat_minor": 2
}
