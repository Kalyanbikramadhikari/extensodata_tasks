{
 "cells": [
  {
   "cell_type": "code",
   "execution_count": 12,
   "metadata": {},
   "outputs": [
    {
     "data": {
      "text/plain": [
       "CompletedProcess(args='hdfs dfs -put D:\\\\internship-f1soft\\\\day-3\\\\assignment_2\\\\fc_transaction_base.csv /kalyan', returncode=0)"
      ]
     },
     "execution_count": 12,
     "metadata": {},
     "output_type": "execute_result"
    }
   ],
   "source": [
    "# import subprocess\n",
    "\n",
    "# # start_dfs_command = \"start-dfs.cmd\"\n",
    "# #\n",
    "# # subprocess.run(start_dfs_command,shell=True)\n",
    "\n",
    "# hdfs_put_command = \"hdfs dfs -put D:\\\\internship-f1soft\\\\day-3\\\\assignment_2\\\\fc_transaction_base.csv /kalyan\"\n",
    "\n",
    "# subprocess.run(hdfs_put_command, shell=True)"
   ]
  },
  {
   "cell_type": "code",
   "execution_count": 1,
   "metadata": {},
   "outputs": [],
   "source": [
    "# import requests\n",
    "\n",
    "# HDFS_PATH = '/kalyan/fc_account_master.csv'\n",
    "# HDFS_URL = 'http://localhost:9000/webhdfs/v1/{HDFS_PATH}'\n"
   ]
  },
  {
   "cell_type": "code",
   "execution_count": 1,
   "metadata": {},
   "outputs": [
    {
     "name": "stdout",
     "output_type": "stream",
     "text": [
      "Requirement already satisfied: hdfs in c:\\programdata\\anaconda3\\envs\\demo\\lib\\site-packages (2.7.3)\n",
      "Requirement already satisfied: docopt in c:\\programdata\\anaconda3\\envs\\demo\\lib\\site-packages (from hdfs) (0.6.2)\n",
      "Requirement already satisfied: requests>=2.7.0 in c:\\programdata\\anaconda3\\envs\\demo\\lib\\site-packages (from hdfs) (2.31.0)\n",
      "Requirement already satisfied: six>=1.9.0 in c:\\programdata\\anaconda3\\envs\\demo\\lib\\site-packages (from hdfs) (1.16.0)\n",
      "Requirement already satisfied: urllib3<3,>=1.21.1 in c:\\programdata\\anaconda3\\envs\\demo\\lib\\site-packages (from requests>=2.7.0->hdfs) (2.2.1)\n",
      "Requirement already satisfied: charset-normalizer<4,>=2 in c:\\programdata\\anaconda3\\envs\\demo\\lib\\site-packages (from requests>=2.7.0->hdfs) (3.3.2)\n",
      "Requirement already satisfied: idna<4,>=2.5 in c:\\programdata\\anaconda3\\envs\\demo\\lib\\site-packages (from requests>=2.7.0->hdfs) (3.7)\n",
      "Requirement already satisfied: certifi>=2017.4.17 in c:\\programdata\\anaconda3\\envs\\demo\\lib\\site-packages (from requests>=2.7.0->hdfs) (2024.2.2)\n"
     ]
    }
   ],
   "source": [
    "! pip install hdfs"
   ]
  },
  {
   "cell_type": "code",
   "execution_count": 19,
   "metadata": {},
   "outputs": [],
   "source": [
    "from hdfs import InsecureClient\n",
    "# Connect to HDFS\n",
    "# client = InsecureClient('hdfs://localhost:9000', user='Dell')\n",
    "client = InsecureClient('http://localhost:9870')\n"
   ]
  },
  {
   "cell_type": "code",
   "execution_count": 23,
   "metadata": {},
   "outputs": [],
   "source": [
    "# path to the local CSV file\n",
    "local_csv_file_path = \"D:\\\\internship-f1soft\\\\day-3\\\\assignment_2\\\\transaction_summary.csv\"\n"
   ]
  },
  {
   "cell_type": "code",
   "execution_count": 24,
   "metadata": {},
   "outputs": [],
   "source": [
    "# path in HDFS wehere you want to upload the file\n",
    "hdfs_upload_path = '/kalyan'"
   ]
  },
  {
   "cell_type": "code",
   "execution_count": 25,
   "metadata": {},
   "outputs": [
    {
     "name": "stdout",
     "output_type": "stream",
     "text": [
      "file uploaded sucessfully to hdfs\n"
     ]
    }
   ],
   "source": [
    "#upload the file\n",
    "client.upload(hdfs_upload_path, local_csv_file_path)\n",
    "print(\"file uploaded sucessfully to hdfs\")"
   ]
  },
  {
   "cell_type": "code",
   "execution_count": null,
   "metadata": {},
   "outputs": [],
   "source": []
  },
  {
   "cell_type": "code",
   "execution_count": null,
   "metadata": {},
   "outputs": [],
   "source": []
  },
  {
   "cell_type": "code",
   "execution_count": null,
   "metadata": {},
   "outputs": [],
   "source": []
  }
 ],
 "metadata": {
  "kernelspec": {
   "display_name": "demo",
   "language": "python",
   "name": "python3"
  },
  "language_info": {
   "codemirror_mode": {
    "name": "ipython",
    "version": 3
   },
   "file_extension": ".py",
   "mimetype": "text/x-python",
   "name": "python",
   "nbconvert_exporter": "python",
   "pygments_lexer": "ipython3",
   "version": "3.10.8"
  }
 },
 "nbformat": 4,
 "nbformat_minor": 2
}
