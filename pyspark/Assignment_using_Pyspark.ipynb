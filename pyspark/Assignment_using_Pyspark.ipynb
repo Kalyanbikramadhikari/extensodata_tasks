{
 "cells": [
  {
   "cell_type": "code",
   "execution_count": 1,
   "id": "ed2cf83e-1374-4b37-9986-b6616422be23",
   "metadata": {},
   "outputs": [],
   "source": [
    "from pyspark.sql import SparkSession\n",
    "from pyspark.sql.functions import col,to_date,month,avg,min,stddev,variance"
   ]
  },
  {
   "cell_type": "code",
   "execution_count": 2,
   "id": "84c8cfc6-c7f4-474b-827c-d0da880c0334",
   "metadata": {},
   "outputs": [],
   "source": [
    "spark = SparkSession.builder.appName(\"Process\").getOrCreate()\n",
    "spark"
   ]
  },
  {
   "cell_type": "code",
   "execution_count": 4,
   "id": "bf5bc393-f2c5-4440-992e-d31d1d93b524",
   "metadata": {},
   "outputs": [],
   "source": [
    "data = spark.read.csv(\"F:/test3.csv\",header=True,inferSchema=True)\n"
   ]
  },
  {
   "cell_type": "code",
   "execution_count": 6,
   "id": "e3ab2b09-c3b7-4009-b0ce-6503d0b5ed66",
   "metadata": {},
   "outputs": [
    {
     "name": "stdout",
     "output_type": "stream",
     "text": [
      "+---------+------------+------+\n",
      "|     Name| Departments|salary|\n",
      "+---------+------------+------+\n",
      "|    Krish|Data Science| 10000|\n",
      "|    Krish|         IOT|  5000|\n",
      "|   Mahesh|    Big Data|  4000|\n",
      "|    Krish|    Big Data|  4000|\n",
      "|   Mahesh|Data Science|  3000|\n",
      "|Sudhanshu|Data Science| 20000|\n",
      "|Sudhanshu|         IOT| 10000|\n",
      "|Sudhanshu|    Big Data|  5000|\n",
      "|    Sunny|Data Science| 10000|\n",
      "|    Sunny|    Big Data|  2000|\n",
      "+---------+------------+------+\n",
      "\n"
     ]
    }
   ],
   "source": [
    "data.show()"
   ]
  },
  {
   "cell_type": "code",
   "execution_count": 7,
   "id": "5910933e-e21c-46af-9b8a-0040e1d8033e",
   "metadata": {},
   "outputs": [
    {
     "name": "stdout",
     "output_type": "stream",
     "text": [
      "+-------+-----+-----------+-----------------+\n",
      "|summary| Name|Departments|           salary|\n",
      "+-------+-----+-----------+-----------------+\n",
      "|  count|   10|         10|               10|\n",
      "|   mean| NULL|       NULL|           7300.0|\n",
      "| stddev| NULL|       NULL|5396.500923952689|\n",
      "|    min|Krish|   Big Data|             2000|\n",
      "|    max|Sunny|        IOT|            20000|\n",
      "+-------+-----+-----------+-----------------+\n",
      "\n"
     ]
    }
   ],
   "source": [
    "data.describe().show()"
   ]
  },
  {
   "cell_type": "code",
   "execution_count": 8,
   "id": "8eaf80c0-ae88-4e28-93e8-e6da9e4cdcf8",
   "metadata": {},
   "outputs": [
    {
     "name": "stdout",
     "output_type": "stream",
     "text": [
      "root\n",
      " |-- Name: string (nullable = true)\n",
      " |-- Departments: string (nullable = true)\n",
      " |-- salary: integer (nullable = true)\n",
      "\n"
     ]
    }
   ],
   "source": [
    "data.printSchema()"
   ]
  },
  {
   "cell_type": "code",
   "execution_count": 22,
   "id": "7fb59109-758e-47e2-a1d6-9f3905aa4b22",
   "metadata": {},
   "outputs": [
    {
     "data": {
      "text/plain": [
       "<bound method GroupedData.agg of GroupedData[grouping expressions: [Departments], value: [Name: string, Departments: string ... 1 more field], type: GroupBy]>"
      ]
     },
     "execution_count": 22,
     "metadata": {},
     "output_type": "execute_result"
    }
   ],
   "source": [
    "data.groupBy('Departments').agg"
   ]
  },
  {
   "cell_type": "code",
   "execution_count": 38,
   "id": "18ac172f-746d-4e1e-924a-497ed52343f1",
   "metadata": {},
   "outputs": [],
   "source": [
    "fc_transaction_base = spark.read.csv(\"C:/Users/acer/Downloads/fc_transaction_base.csv\",header=True,inferSchema=True)"
   ]
  },
  {
   "cell_type": "code",
   "execution_count": 39,
   "id": "aa368847-4173-408f-b7e5-efdec7334775",
   "metadata": {},
   "outputs": [
    {
     "name": "stdout",
     "output_type": "stream",
     "text": [
      "+----------+-------------------+------+-------+----------+----------------+--------------------+------------+---------+\n",
      "| tran_date|     account_number|branch|product|lcy_amount|transaction_code|        description1|dc_indicator|is_salary|\n",
      "+----------+-------------------+------+-------+----------+----------------+--------------------+------------+---------+\n",
      "|09/06/2020|02XYZXYZ10017529992|    15|    SBA|   14500.0|              CI|ATM WDL /00463701...|    withdraw|        0|\n",
      "|14/06/2020|02XYZXYZ10017529992|    15|    SBA|   20000.0|              CI|ATM WDL /00463701...|    withdraw|        0|\n",
      "|01/06/2020|02XYZXYZ10017517823|    15|    SBA|    4000.0|              CI|ATM WDL /NICAV701...|    withdraw|        0|\n",
      "|05/06/2020|02XYZXYZ10017517823|    15|    SBA|     500.0|              CI|ATM WDL /NICAV701...|    withdraw|        0|\n",
      "|12/06/2020|02XYZXYZ10017517823|    15|    SBA|    5000.0|              CI|ATM WDL /NICAV701...|    withdraw|        0|\n",
      "+----------+-------------------+------+-------+----------+----------------+--------------------+------------+---------+\n",
      "only showing top 5 rows\n",
      "\n"
     ]
    }
   ],
   "source": [
    "fc_transaction_base.show(5)"
   ]
  },
  {
   "cell_type": "code",
   "execution_count": 40,
   "id": "b78d94bb-7fce-435f-ad82-65188d370985",
   "metadata": {},
   "outputs": [
    {
     "name": "stdout",
     "output_type": "stream",
     "text": [
      "root\n",
      " |-- tran_date: string (nullable = true)\n",
      " |-- account_number: string (nullable = true)\n",
      " |-- branch: integer (nullable = true)\n",
      " |-- product: string (nullable = true)\n",
      " |-- lcy_amount: double (nullable = true)\n",
      " |-- transaction_code: string (nullable = true)\n",
      " |-- description1: string (nullable = true)\n",
      " |-- dc_indicator: string (nullable = true)\n",
      " |-- is_salary: integer (nullable = true)\n",
      "\n"
     ]
    }
   ],
   "source": [
    "fc_transaction_base.printSchema()"
   ]
  },
  {
   "cell_type": "code",
   "execution_count": 41,
   "id": "7acca60c-1478-4602-8c88-4da72ebe24fc",
   "metadata": {},
   "outputs": [],
   "source": [
    "fc_account_master = spark.read.csv(\"C:/Users/acer/Downloads/assignment_2/assignment_2/fc_account_master.csv\",header=True,inferSchema=True)"
   ]
  },
  {
   "cell_type": "code",
   "execution_count": 42,
   "id": "f11a6243-f06a-44d8-a777-d183c1a9b8bd",
   "metadata": {},
   "outputs": [
    {
     "name": "stdout",
     "output_type": "stream",
     "text": [
      "root\n",
      " |-- account_number: string (nullable = true)\n",
      " |-- customer_code: string (nullable = true)\n",
      " |-- product: string (nullable = true)\n",
      " |-- product_category: string (nullable = true)\n",
      " |-- acc_open_date: date (nullable = true)\n",
      " |-- acc_closed_date: string (nullable = true)\n",
      " |-- active_flag: integer (nullable = true)\n",
      "\n"
     ]
    }
   ],
   "source": [
    "fc_account_master.printSchema()"
   ]
  },
  {
   "cell_type": "code",
   "execution_count": 43,
   "id": "8714ab19-cfe9-4dd9-9ae3-2d30e9afa578",
   "metadata": {},
   "outputs": [],
   "source": [
    "fc_transaction_base = fc_transaction_base.withColumn(\"tran_date\", to_date(col(\"tran_date\"), \"dd/MM/yyyy\"))"
   ]
  },
  {
   "cell_type": "code",
   "execution_count": 44,
   "id": "0869d82e-dff7-45e4-a891-fd37479e170c",
   "metadata": {},
   "outputs": [
    {
     "name": "stdout",
     "output_type": "stream",
     "text": [
      "root\n",
      " |-- tran_date: date (nullable = true)\n",
      " |-- account_number: string (nullable = true)\n",
      " |-- branch: integer (nullable = true)\n",
      " |-- product: string (nullable = true)\n",
      " |-- lcy_amount: double (nullable = true)\n",
      " |-- transaction_code: string (nullable = true)\n",
      " |-- description1: string (nullable = true)\n",
      " |-- dc_indicator: string (nullable = true)\n",
      " |-- is_salary: integer (nullable = true)\n",
      "\n"
     ]
    }
   ],
   "source": [
    "fc_transaction_base.printSchema()"
   ]
  },
  {
   "cell_type": "code",
   "execution_count": 45,
   "id": "aca6ffb4-e26d-4d25-9bc2-504c0612980d",
   "metadata": {},
   "outputs": [],
   "source": [
    "fc_transaction_base = fc_transaction_base.withColumn(\"month\",month(col(\"tran_date\")))"
   ]
  },
  {
   "cell_type": "code",
   "execution_count": 46,
   "id": "2ecc41ac-15a5-4874-817e-257a017c3a5a",
   "metadata": {},
   "outputs": [
    {
     "name": "stdout",
     "output_type": "stream",
     "text": [
      "+----------+-------------------+------+-------+----------+----------------+--------------------+------------+---------+-----+\n",
      "| tran_date|     account_number|branch|product|lcy_amount|transaction_code|        description1|dc_indicator|is_salary|month|\n",
      "+----------+-------------------+------+-------+----------+----------------+--------------------+------------+---------+-----+\n",
      "|2020-06-09|02XYZXYZ10017529992|    15|    SBA|   14500.0|              CI|ATM WDL /00463701...|    withdraw|        0|    6|\n",
      "|2020-06-14|02XYZXYZ10017529992|    15|    SBA|   20000.0|              CI|ATM WDL /00463701...|    withdraw|        0|    6|\n",
      "|2020-06-01|02XYZXYZ10017517823|    15|    SBA|    4000.0|              CI|ATM WDL /NICAV701...|    withdraw|        0|    6|\n",
      "|2020-06-05|02XYZXYZ10017517823|    15|    SBA|     500.0|              CI|ATM WDL /NICAV701...|    withdraw|        0|    6|\n",
      "|2020-06-12|02XYZXYZ10017517823|    15|    SBA|    5000.0|              CI|ATM WDL /NICAV701...|    withdraw|        0|    6|\n",
      "+----------+-------------------+------+-------+----------+----------------+--------------------+------------+---------+-----+\n",
      "only showing top 5 rows\n",
      "\n"
     ]
    }
   ],
   "source": [
    "fc_transaction_base.show(5)"
   ]
  },
  {
   "cell_type": "code",
   "execution_count": 64,
   "id": "16c971d2-e5b4-4dca-94b8-2dc8b7698be2",
   "metadata": {},
   "outputs": [
    {
     "name": "stdout",
     "output_type": "stream",
     "text": [
      "+------------+\n",
      "|dc_indicator|\n",
      "+------------+\n",
      "|     deposit|\n",
      "|    withdraw|\n",
      "|        NULL|\n",
      "+------------+\n",
      "\n"
     ]
    }
   ],
   "source": [
    "fc_transaction_base.select(\"dc_indicator\").distinct().show()"
   ]
  },
  {
   "cell_type": "code",
   "execution_count": 65,
   "id": "21032e69-840d-4851-9311-6ee5cf288fc1",
   "metadata": {},
   "outputs": [],
   "source": [
    "fc_transaction_base = fc_transaction_base.na.drop(subset=\"dc_indicator\")"
   ]
  },
  {
   "cell_type": "code",
   "execution_count": 66,
   "id": "e87302f4-68cf-408f-8bb7-4f047e88046b",
   "metadata": {},
   "outputs": [
    {
     "name": "stdout",
     "output_type": "stream",
     "text": [
      "+------------+\n",
      "|dc_indicator|\n",
      "+------------+\n",
      "|     deposit|\n",
      "|    withdraw|\n",
      "+------------+\n",
      "\n"
     ]
    }
   ],
   "source": [
    "fc_transaction_base.select(\"dc_indicator\").distinct().show()"
   ]
  },
  {
   "cell_type": "code",
   "execution_count": 67,
   "id": "4c1f981c-3668-4d23-96f2-44b3815b07ed",
   "metadata": {},
   "outputs": [],
   "source": [
    "fc_trans_avg_salary = fc_transaction_base.groupBy('month','dc_indicator').agg(avg(\"lcy_amount\").alias(\"AVerage_Monthly\"),stddev(\"lcy_amount\").alias(\"std_Monthly\"),variance(\"lcy_amount\").alias(\"variance_Monthly\"))"
   ]
  },
  {
   "cell_type": "code",
   "execution_count": 68,
   "id": "e1edb067-2f18-475f-b12a-cf53b987443b",
   "metadata": {},
   "outputs": [
    {
     "name": "stdout",
     "output_type": "stream",
     "text": [
      "+-----+------------+------------------+------------------+--------------------+\n",
      "|month|dc_indicator|   AVerage_Monthly|       std_Monthly|    variance_Monthly|\n",
      "+-----+------------+------------------+------------------+--------------------+\n",
      "|    7|    withdraw|29542.774370950818|206448.55792322033|4.262100706857725...|\n",
      "|    8|     deposit| 56295.85522375221|273560.86691461364|7.483554790707497E10|\n",
      "|    6|     deposit|  99075.4756339712| 319613.3873055106|1.021527173449023E11|\n",
      "|    7|     deposit| 72276.67343830765|334540.14597747347|1.119171092706292...|\n",
      "|    8|    withdraw|25084.110745400227|171971.27718957173|2.957412017821251...|\n",
      "|    6|    withdraw|23076.009773670306|141984.58293541646|2.015962179134416E10|\n",
      "+-----+------------+------------------+------------------+--------------------+\n",
      "\n"
     ]
    }
   ],
   "source": [
    "fc_trans_avg_salary.show()"
   ]
  },
  {
   "cell_type": "code",
   "execution_count": 69,
   "id": "7d6027c7-e3a3-4f41-8c7c-27a00a235898",
   "metadata": {},
   "outputs": [],
   "source": [
    "fc_trans_avg_salary = fc_transaction_base.groupBy('month').pivot('dc_indicator').agg(avg(\"lcy_amount\").alias(\"AVerage_Monthly\"),stddev(\"lcy_amount\").alias(\"std_Monthly\"),variance(\"lcy_amount\").alias(\"variance_Monthly\"))"
   ]
  },
  {
   "cell_type": "code",
   "execution_count": 70,
   "id": "c933ec52-431d-47f5-97e9-eb6cb2b21be9",
   "metadata": {},
   "outputs": [
    {
     "name": "stdout",
     "output_type": "stream",
     "text": [
      "+-----+-----------------------+-------------------+------------------------+------------------------+--------------------+-------------------------+\n",
      "|month|deposit_AVerage_Monthly|deposit_std_Monthly|deposit_variance_Monthly|withdraw_AVerage_Monthly|withdraw_std_Monthly|withdraw_variance_Monthly|\n",
      "+-----+-----------------------+-------------------+------------------------+------------------------+--------------------+-------------------------+\n",
      "|    6|       99075.4756339712|  319613.3873055106|    1.021527173449023E11|      23076.009773670306|  141984.58293541646|     2.015962179134416E10|\n",
      "|    8|      56295.85522375221| 273560.86691461364|    7.483554790707497E10|      25084.110745400227|  171971.27718957173|     2.957412017821251...|\n",
      "|    7|      72276.67343830765| 334540.14597747347|    1.119171092706292...|      29542.774370950818|  206448.55792322033|     4.262100706857725...|\n",
      "+-----+-----------------------+-------------------+------------------------+------------------------+--------------------+-------------------------+\n",
      "\n"
     ]
    }
   ],
   "source": [
    "fc_trans_avg_salary.show()"
   ]
  },
  {
   "cell_type": "code",
   "execution_count": 88,
   "id": "58d57e97-5147-44e2-965c-dfd3a1756fca",
   "metadata": {},
   "outputs": [],
   "source": [
    "joined = fc_transaction_base.join(fc_account_master,fc_transaction_base[\"account_number\"]==fc_account_master[\"account_number\"],\"inner\").select(fc_transaction_base[\"account_number\"],fc_transaction_base[\"lcy_amount\"],fc_transaction_base[\"month\"],fc_transaction_base[\"dc_indicator\"],fc_account_master[\"customer_code\"])"
   ]
  },
  {
   "cell_type": "code",
   "execution_count": 89,
   "id": "e0a60ae8-be59-4e5a-b4c0-70280aa68f9d",
   "metadata": {},
   "outputs": [
    {
     "name": "stdout",
     "output_type": "stream",
     "text": [
      "root\n",
      " |-- account_number: string (nullable = true)\n",
      " |-- lcy_amount: double (nullable = true)\n",
      " |-- month: integer (nullable = true)\n",
      " |-- dc_indicator: string (nullable = true)\n",
      " |-- customer_code: string (nullable = true)\n",
      "\n"
     ]
    }
   ],
   "source": [
    "joined.printSchema()"
   ]
  },
  {
   "cell_type": "code",
   "execution_count": 90,
   "id": "8cad948b-8ca6-4143-ab38-96d45133c106",
   "metadata": {},
   "outputs": [],
   "source": [
    "final_result = joined.groupBy('account_number','month').pivot('dc_indicator').agg(avg(\"lcy_amount\").alias(\"AVerage_Monthly\"),stddev(\"lcy_amount\").alias(\"std_Monthly\"),variance(\"lcy_amount\").alias(\"variance_Monthly\"))"
   ]
  },
  {
   "cell_type": "code",
   "execution_count": 92,
   "id": "a1c89872-f622-481a-80fb-1dc07ebc5b22",
   "metadata": {},
   "outputs": [
    {
     "name": "stdout",
     "output_type": "stream",
     "text": [
      "+-------------------+-----+-----------------------+-------------------+------------------------+------------------------+--------------------+-------------------------+\n",
      "|     account_number|month|deposit_AVerage_Monthly|deposit_std_Monthly|deposit_variance_Monthly|withdraw_AVerage_Monthly|withdraw_std_Monthly|withdraw_variance_Monthly|\n",
      "+-------------------+-----+-----------------------+-------------------+------------------------+------------------------+--------------------+-------------------------+\n",
      "|02XYZXYZ10017514877|    6|               111080.0|               NULL|                    NULL|                21039.25|  19743.481990900185|          3.89805081125E8|\n",
      "|02XYZXYZ10017542037|    7|                  11.16|               NULL|                    NULL|                    0.56|                NULL|                     NULL|\n",
      "|02XYZXYZ10017516724|    7|                1530.74|               NULL|                    NULL|      208.84666666666666|   117.2765557702533|       13753.790533333331|\n",
      "|02XYZXYZ10017551546|    8|              19897.995|  20789.63940259787|    4.3220910649004996E8|                236700.0|   401260.1026765557|             1.6100967E11|\n",
      "|02XYZXYZ10017510199|    6|              239123.68| 312579.97502033424|    9.770624078371278E10|                 18000.0|                NULL|                     NULL|\n",
      "+-------------------+-----+-----------------------+-------------------+------------------------+------------------------+--------------------+-------------------------+\n",
      "only showing top 5 rows\n",
      "\n"
     ]
    }
   ],
   "source": [
    "final_result.show(5)"
   ]
  },
  {
   "cell_type": "code",
   "execution_count": null,
   "id": "03f7de46-2f71-42bf-a21e-92533c60118b",
   "metadata": {},
   "outputs": [],
   "source": []
  }
 ],
 "metadata": {
  "kernelspec": {
   "display_name": "Python 3 (ipykernel)",
   "language": "python",
   "name": "python3"
  },
  "language_info": {
   "codemirror_mode": {
    "name": "ipython",
    "version": 3
   },
   "file_extension": ".py",
   "mimetype": "text/x-python",
   "name": "python",
   "nbconvert_exporter": "python",
   "pygments_lexer": "ipython3",
   "version": "3.10.7"
  }
 },
 "nbformat": 4,
 "nbformat_minor": 5
}
